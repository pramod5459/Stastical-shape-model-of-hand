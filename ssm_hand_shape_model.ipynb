{
 "cells": [
  {
   "cell_type": "code",
   "execution_count": null,
   "metadata": {},
   "outputs": [],
   "source": [
    "import numpy as np\n",
    "import matplotlib.pyplot as plt\n",
    "import pandas as pd\n"
   ]
  },
  {
   "cell_type": "code",
   "execution_count": null,
   "metadata": {},
   "outputs": [],
   "source": [
    "df = np.genfromtxt(\"shapes.txt\",delimiter=None) \n",
    "print(len(df))\n",
    "df1=df.T\n"
   ]
  },
  {
   "cell_type": "code",
   "execution_count": null,
   "metadata": {},
   "outputs": [],
   "source": [
    "df1.shape"
   ]
  },
  {
   "cell_type": "code",
   "execution_count": null,
   "metadata": {},
   "outputs": [],
   "source": [
    "df1[0]"
   ]
  },
  {
   "cell_type": "code",
   "execution_count": null,
   "metadata": {},
   "outputs": [],
   "source": [
    "#mean representation of all the hands\n",
    "mean_hand = np.mean(df1,axis = 0)\n",
    "print(mean_hand.shape)"
   ]
  },
  {
   "cell_type": "code",
   "execution_count": null,
   "metadata": {},
   "outputs": [],
   "source": [
    "#convertion of points in to coordinates\n",
    "def coordinates(a):\n",
    "    return np.array([ [a[i], a[i+56]] for i in range(0,56)])\n"
   ]
  },
  {
   "cell_type": "code",
   "execution_count": null,
   "metadata": {},
   "outputs": [],
   "source": [
    "#plotting of hand\n",
    "def image(points,show = False,c = 'black'):\n",
    "    plt.scatter(points[:,0],points[:,1],c=c) \n",
    "    if show:\n",
    "        plt.show()\n"
   ]
  },
  {
   "cell_type": "code",
   "execution_count": null,
   "metadata": {},
   "outputs": [],
   "source": [
    "#shape of hands before procrustes\n",
    "for x in df1:\n",
    "    image(coordinates(x))\n",
    "    plt.title(\"before procrustes\")"
   ]
  },
  {
   "cell_type": "code",
   "execution_count": null,
   "metadata": {},
   "outputs": [],
   "source": [
    "#convertion of mean_point in to coordinates\n",
    "Target=coordinates(mean_hand)\n",
    "Target.shape"
   ]
  },
  {
   "cell_type": "code",
   "execution_count": null,
   "metadata": {},
   "outputs": [],
   "source": [
    "#convert coordinates in to original data\n",
    "def data(x):\n",
    "    return np.concatenate((x[:,0],x[:,1]))"
   ]
  },
  {
   "cell_type": "code",
   "execution_count": null,
   "metadata": {},
   "outputs": [],
   "source": [
    "#Procrustes alignment\n",
    "from scipy.spatial import procrustes\n",
    "for index,hand in enumerate(df1):\n",
    "            mtx1, mtx2, disparity = procrustes(Target, coordinates(hand))\n",
    "            df1[index] = data(mtx2)"
   ]
  },
  {
   "cell_type": "code",
   "execution_count": null,
   "metadata": {},
   "outputs": [],
   "source": [
    "#shape of hands after procrustes\n",
    "for x in df1:\n",
    "    image(coordinates(x))\n",
    "    plt.title(\"after procrustes\")"
   ]
  },
  {
   "cell_type": "code",
   "execution_count": null,
   "metadata": {},
   "outputs": [],
   "source": [
    "#new_mean shape \n",
    "new_mean= np.mean(df1,axis = 0)"
   ]
  },
  {
   "cell_type": "code",
   "execution_count": null,
   "metadata": {},
   "outputs": [],
   "source": [
    "from sklearn.decomposition import PCA\n",
    "pca=PCA(n_components=20).fit(df1)\n",
    "plt.plot(np.cumsum(pca.explained_variance_ratio_),c='black')\n",
    "plt.show()"
   ]
  },
  {
   "cell_type": "code",
   "execution_count": null,
   "metadata": {},
   "outputs": [],
   "source": [
    "#applying pca to get different shape of the hands by changing the mode\n",
    "covariance = np.cov(df1.T)        \n",
    "eigenvalue, eigenvector = np.linalg.eigh(covariance)\n",
    "for i in range(1,7):\n",
    "        below_mean =coordinates(new_mean)+ coordinates(eigenvector[:,-i]*-3*np.sqrt(eigenvalue[-i]))\n",
    "        above_mean = coordinates(new_mean)+coordinates(eigenvector[:,-i]*3*np.sqrt(eigenvalue[-i]))\n",
    "        plt.figure(figsize =(10,2))\n",
    "        plt.subplot(1,3,1)\n",
    "        image(below_mean,c=\"red\") \n",
    "        plt.subplot(1,3,2)\n",
    "        image(coordinates(np.mean(df1,axis=0)))\n",
    "        plt.subplot(1,3,3)\n",
    "        image(above_mean,c='blue')\n",
    "        plt.suptitle('PCA Mode' + str(i))\n",
    "        plt.show()"
   ]
  },
  {
   "cell_type": "code",
   "execution_count": null,
   "metadata": {},
   "outputs": [],
   "source": []
  }
 ],
 "metadata": {
  "kernelspec": {
   "display_name": "Python 3",
   "language": "python",
   "name": "python3"
  },
  "language_info": {
   "codemirror_mode": {
    "name": "ipython",
    "version": 3
   },
   "file_extension": ".py",
   "mimetype": "text/x-python",
   "name": "python",
   "nbconvert_exporter": "python",
   "pygments_lexer": "ipython3",
   "version": "3.8.3"
  }
 },
 "nbformat": 4,
 "nbformat_minor": 4
}
