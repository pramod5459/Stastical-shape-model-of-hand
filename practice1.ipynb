{
 "cells": [
  {
   "cell_type": "code",
   "execution_count": 139,
   "metadata": {},
   "outputs": [],
   "source": [
    "import os\n",
    "import numpy as np\n",
    "import scipy.linalg \n",
    "import matplotlib.pyplot as plt\n",
    "import matplotlib.image as mpimg\n",
    "from read_files import *\n",
    "from my_interpolate import *\n",
    "import pandas as pd"
   ]
  },
  {
   "cell_type": "code",
   "execution_count": 146,
   "metadata": {},
   "outputs": [
    {
     "name": "stdout",
     "output_type": "stream",
     "text": [
      "112\n"
     ]
    },
    {
     "data": {
      "text/plain": [
       "array([[1.0035 , 1.0102 , 1.0102 , ..., 1.064  , 1.0492 , 1.0519 ],\n",
       "       [0.93228, 0.92019, 0.9175 , ..., 1.0049 , 1.0197 , 1.0344 ],\n",
       "       [0.86911, 0.8503 , 0.83282, ..., 0.96589, 1.0102 , 1.0197 ],\n",
       "       ...,\n",
       "       [0.79912, 0.79778, 0.80046, ..., 0.72522, 0.74537, 0.73597],\n",
       "       [0.783  , 0.783  , 0.78703, ..., 0.74941, 0.75747, 0.75209],\n",
       "       [0.75612, 0.75478, 0.75344, ..., 0.76419, 0.77493, 0.77628]])"
      ]
     },
     "execution_count": 146,
     "metadata": {},
     "output_type": "execute_result"
    }
   ],
   "source": [
    "df = np.genfromtxt(\"shapes.txt\",delimiter=None) \n",
    "print(len(df))\n",
    "df1=df.T\n",
    "df"
   ]
  },
  {
   "cell_type": "code",
   "execution_count": 149,
   "metadata": {},
   "outputs": [
    {
     "data": {
      "text/plain": [
       "56"
      ]
     },
     "execution_count": 149,
     "metadata": {},
     "output_type": "execute_result"
    }
   ],
   "source": [
    "df.shape[0]//2"
   ]
  },
  {
   "cell_type": "code",
   "execution_count": 151,
   "metadata": {},
   "outputs": [
    {
     "data": {
      "text/plain": [
       "array([[1.0035 , 0.46187],\n",
       "       [0.93228, 0.39066],\n",
       "       [0.86911, 0.32616],\n",
       "       [0.77503, 0.22404],\n",
       "       [0.74949, 0.17567],\n",
       "       [0.71589, 0.12865],\n",
       "       [0.69035, 0.12999],\n",
       "       [0.6675 , 0.14611],\n",
       "       [0.67019, 0.2133 ],\n",
       "       [0.69573, 0.2657 ],\n",
       "       [0.74277, 0.35572],\n",
       "       [0.72798, 0.42156],\n",
       "       [0.64465, 0.44843],\n",
       "       [0.48336, 0.41081],\n",
       "       [0.36508, 0.37722],\n",
       "       [0.33148, 0.37184],\n",
       "       [0.29116, 0.37184],\n",
       "       [0.27099, 0.38931],\n",
       "       [0.27099, 0.41887],\n",
       "       [0.30863, 0.44171],\n",
       "       [0.34492, 0.45112],\n",
       "       [0.46185, 0.49277],\n",
       "       [0.55997, 0.55324],\n",
       "       [0.44707, 0.57876],\n",
       "       [0.31401, 0.60564],\n",
       "       [0.26965, 0.61504],\n",
       "       [0.23202, 0.62445],\n",
       "       [0.21723, 0.66207],\n",
       "       [0.23336, 0.68894],\n",
       "       [0.28309, 0.6876 ],\n",
       "       [0.32745, 0.67551],\n",
       "       [0.45917, 0.6661 ],\n",
       "       [0.56804, 0.66341],\n",
       "       [0.50352, 0.72791],\n",
       "       [0.39331, 0.79778],\n",
       "       [0.3597 , 0.81256],\n",
       "       [0.32745, 0.8354 ],\n",
       "       [0.32745, 0.87168],\n",
       "       [0.3503 , 0.8878 ],\n",
       "       [0.39062, 0.87571],\n",
       "       [0.41884, 0.85958],\n",
       "       [0.54788, 0.79912],\n",
       "       [0.63927, 0.76419],\n",
       "       [0.60164, 0.82599],\n",
       "       [0.55325, 0.87436],\n",
       "       [0.51427, 0.90527],\n",
       "       [0.49142, 0.93751],\n",
       "       [0.4968 , 0.9617 ],\n",
       "       [0.51696, 0.96842],\n",
       "       [0.5546 , 0.95229],\n",
       "       [0.59895, 0.92542],\n",
       "       [0.65272, 0.87302],\n",
       "       [0.74008, 0.81659],\n",
       "       [0.81938, 0.79912],\n",
       "       [0.91212, 0.783  ],\n",
       "       [0.99142, 0.75612]])"
      ]
     },
     "execution_count": 151,
     "metadata": {},
     "output_type": "execute_result"
    }
   ],
   "source": [
    "def coordinates(a):\n",
    "    return np.array([ [a[i], a[i+56]] for i in range(0,56)])\n",
    "coordinates(df1[0])"
   ]
  },
  {
   "cell_type": "code",
   "execution_count": 160,
   "metadata": {},
   "outputs": [
    {
     "name": "stdout",
     "output_type": "stream",
     "text": [
      "None\n"
     ]
    },
    {
     "data": {
      "image/png": "[encoded data removed]",
      "text/plain": [
       "<Figure size 432x288 with 1 Axes>"
      ]
     },
     "metadata": {
      "needs_background": "light"
     },
     "output_type": "display_data"
    }
   ],
   "source": [
    "def showPoints(points,W=256,H=256, show = False,color = 'black'):\n",
    "    points = np.array(points)\n",
    "    plt.scatter(points[:,0]*W,points[:,1]*H,color=color,s = 1) \n",
    "    if show:\n",
    "        plt.show()\n",
    "print(showPoints(coordinates(df1[0]),W=256,H=256, show = False,color = 'red'))"
   ]
  },
  {
   "cell_type": "code",
   "execution_count": 159,
   "metadata": {},
   "outputs": [
    {
     "name": "stdout",
     "output_type": "stream",
     "text": [
      "None\n",
      "None\n",
      "None\n",
      "None\n"
     ]
    },
    {
     "data": {
      "image/png": "[encoded data removed]",
      "text/plain": [
       "<Figure size 432x288 with 1 Axes>"
      ]
     },
     "metadata": {
      "needs_background": "light"
     },
     "output_type": "display_data"
    }
   ],
   "source": [
    "def showPoints(points,W=256,H=256, show = False,color = 'black'):\n",
    "    points = np.array(points)\n",
    "    plt.scatter(points[:,0]*W,points[:,1]*H,color=color,s = 1) \n",
    "    if show:\n",
    "        plt.show()\n",
    "print(showPoints(coordinates(df1[0]),W=256,H=256, show = False,color = 'red'))\n",
    "print(showPoints(coordinates(df1[1]),W=256,H=256, show = False,color = 'red'))\n",
    "print(showPoints(coordinates(df1[2]),W=256,H=256, show = False,color = 'red'))\n",
    "print(showPoints(coordinates(df1[39]),W=256,H=256, show = False,color = 'red'))\n"
   ]
  },
  {
   "cell_type": "code",
   "execution_count": 95,
   "metadata": {},
   "outputs": [
    {
     "data": {
      "text/plain": [
       "array([[1.0102 , 0.46859],\n",
       "       [0.92019, 0.38394],\n",
       "       [0.8503 , 0.32347],\n",
       "       [0.72664, 0.24823],\n",
       "       [0.68766, 0.21061],\n",
       "       [0.63927, 0.18374],\n",
       "       [0.61642, 0.18911],\n",
       "       [0.6003 , 0.21867],\n",
       "       [0.61911, 0.27376],\n",
       "       [0.66347, 0.31272],\n",
       "       [0.74815, 0.39469],\n",
       "       [0.71723, 0.42693],\n",
       "       [0.64599, 0.44574],\n",
       "       [0.48739, 0.41484],\n",
       "       [0.37449, 0.38931],\n",
       "       [0.32745, 0.37856],\n",
       "       [0.29116, 0.38259],\n",
       "       [0.27099, 0.40275],\n",
       "       [0.27503, 0.42962],\n",
       "       [0.31401, 0.44978]])"
      ]
     },
     "execution_count": 95,
     "metadata": {},
     "output_type": "execute_result"
    }
   ],
   "source": [
    "b=coordinates(df[1])\n",
    "b"
   ]
  },
  {
   "cell_type": "code",
   "execution_count": 128,
   "metadata": {},
   "outputs": [
    {
     "data": {
      "text/plain": [
       "array([[0.15448699, 0.1435228 , 0.1337979 , ..., 0.12302307, 0.12054142,\n",
       "        0.11640329],\n",
       "       [0.15768922, 0.14363893, 0.13272931, ..., 0.12453109, 0.12222398,\n",
       "        0.11781892],\n",
       "       [0.15862275, 0.14406689, 0.13077034, ..., 0.12568914, 0.12358034,\n",
       "        0.118306  ],\n",
       "       ...,\n",
       "       [0.18388948, 0.17367532, 0.16693328, ..., 0.12533865, 0.12951938,\n",
       "        0.13207378],\n",
       "       [0.17135052, 0.16653271, 0.16498122, ..., 0.1217304 , 0.12370652,\n",
       "        0.126558  ],\n",
       "       [0.17258194, 0.16971077, 0.16729899, ..., 0.1207483 , 0.12339305,\n",
       "        0.12736183]])"
      ]
     },
     "execution_count": 128,
     "metadata": {},
     "output_type": "execute_result"
    }
   ],
   "source": [
    "import sklearn\n",
    "from sklearn import preprocessing\n",
    "X_normalized = preprocessing.normalize(df, norm='l2')\n",
    "X_normalized\n",
    "\n"
   ]
  },
  {
   "cell_type": "code",
   "execution_count": 121,
   "metadata": {},
   "outputs": [],
   "source": [
    "meen=np.mean(df)\n",
    "sd=np.var(df)\n"
   ]
  },
  {
   "cell_type": "code",
   "execution_count": 129,
   "metadata": {},
   "outputs": [
    {
     "data": {
      "image/png": "[encoded data removed]",
      "text/plain": [
       "<Figure size 432x288 with 1 Axes>"
      ]
     },
     "metadata": {
      "needs_background": "light"
     },
     "output_type": "display_data"
    }
   ],
   "source": [
    " for i in X_normalized:\n",
    "    showInterp(interp(coordinates(i)))"
   ]
  },
  {
   "cell_type": "code",
   "execution_count": 103,
   "metadata": {},
   "outputs": [
    {
     "data": {
      "text/plain": [
       "array([0.16472193, 0.1523694 , 0.14197575, 0.12484527, 0.11779133,\n",
       "       0.11180867, 0.10827346, 0.10669452, 0.10992168, 0.11720134,\n",
       "       0.12645625, 0.12148727, 0.11119998, 0.08748482, 0.07188841,\n",
       "       0.06482449, 0.05827188, 0.0557227 , 0.05631193, 0.06242039,\n",
       "       0.06952247, 0.08341565, 0.09955027, 0.08108309, 0.06207994,\n",
       "       0.05513081, 0.04828436, 0.04643315, 0.0478027 , 0.05534845,\n",
       "       0.06237283, 0.08046349, 0.09913206, 0.08526753, 0.06864178,\n",
       "       0.0620027 , 0.05486082, 0.05383997, 0.05574904, 0.06302825,\n",
       "       0.06988339, 0.08710866, 0.1046885 , 0.09648632, 0.08700647,\n",
       "       0.08048601, 0.07520847, 0.07504059, 0.07707298, 0.08310157,\n",
       "       0.09015956, 0.101181  , 0.11921118, 0.13215989, 0.14571333,\n",
       "       0.15956714, 0.07683576, 0.06322873, 0.05399431, 0.0434684 ,\n",
       "       0.039492  , 0.03490203, 0.03592328, 0.04013006, 0.04763401,\n",
       "       0.05332556, 0.06222093, 0.06683875, 0.06836474, 0.06278517,\n",
       "       0.05890788, 0.05780231, 0.05836203, 0.06118534, 0.06497641,\n",
       "       0.06826473, 0.069842  , 0.07495289, 0.08313688, 0.08327299,\n",
       "       0.08313889, 0.08318605, 0.08469834, 0.08891898, 0.09271089,\n",
       "       0.09411648, 0.09406807, 0.09585498, 0.09884872, 0.10130723,\n",
       "       0.10373767, 0.10416179, 0.10607563, 0.11006436, 0.11361452,\n",
       "       0.11444033, 0.11390729, 0.11296154, 0.11318093, 0.11939632,\n",
       "       0.12349449, 0.12535203, 0.12895316, 0.13205223, 0.13410016,\n",
       "       0.13401996, 0.13217245, 0.12847891, 0.12374474, 0.12333768,\n",
       "       0.1217229 , 0.11826183])"
      ]
     },
     "execution_count": 103,
     "metadata": {},
     "output_type": "execute_result"
    }
   ],
   "source": [
    "np.mean(X_normalized,axis=0)"
   ]
  },
  {
   "cell_type": "code",
   "execution_count": 106,
   "metadata": {},
   "outputs": [
    {
     "ename": "NameError",
     "evalue": "name 'hand' is not defined",
     "output_type": "error",
     "traceback": [
      "\u001b[1;31m---------------------------------------------------------------------------\u001b[0m",
      "\u001b[1;31mNameError\u001b[0m                                 Traceback (most recent call last)",
      "\u001b[1;32m<ipython-input-106-3e018ff74e7e>\u001b[0m in \u001b[0;36m<module>\u001b[1;34m\u001b[0m\n\u001b[1;32m----> 1\u001b[1;33m \u001b[0mhand\u001b[0m\u001b[1;33m\u001b[0m\u001b[1;33m\u001b[0m\u001b[0m\n\u001b[0m",
      "\u001b[1;31mNameError\u001b[0m: name 'hand' is not defined"
     ]
    }
   ],
   "source": [
    "hand"
   ]
  },
  {
   "cell_type": "code",
   "execution_count": 108,
   "metadata": {},
   "outputs": [],
   "source": [
    "normalized_hands=a"
   ]
  },
  {
   "cell_type": "code",
   "execution_count": 109,
   "metadata": {},
   "outputs": [
    {
     "data": {
      "text/plain": [
       "array([1.0035 , 0.93228, 0.86911, 0.77503, 0.74949, 0.71589, 0.69035,\n",
       "       0.6675 , 0.67019, 0.69573, 0.74277, 0.72798, 0.64465, 0.48336,\n",
       "       0.36508, 0.33148, 0.29116, 0.27099, 0.27099, 0.30863, 0.34492,\n",
       "       0.46185, 0.55997, 0.44707, 0.31401, 0.26965, 0.23202, 0.21723,\n",
       "       0.23336, 0.28309, 0.32745, 0.45917, 0.56804, 0.50352, 0.39331,\n",
       "       0.3597 , 0.32745, 0.32745, 0.3503 , 0.39062, 0.41884, 0.54788,\n",
       "       0.63927, 0.60164, 0.55325, 0.51427, 0.49142, 0.4968 , 0.51696,\n",
       "       0.5546 , 0.59895, 0.65272, 0.74008, 0.81938, 0.91212, 0.99142,\n",
       "       0.46187, 0.39066, 0.32616, 0.22404, 0.17567, 0.12865, 0.12999,\n",
       "       0.14611, 0.2133 , 0.2657 , 0.35572, 0.42156, 0.44843, 0.41081,\n",
       "       0.37722, 0.37184, 0.37184, 0.38931, 0.41887, 0.44171, 0.45112,\n",
       "       0.49277, 0.55324, 0.57876, 0.60564, 0.61504, 0.62445, 0.66207,\n",
       "       0.68894, 0.6876 , 0.67551, 0.6661 , 0.66341, 0.72791, 0.79778,\n",
       "       0.81256, 0.8354 , 0.87168, 0.8878 , 0.87571, 0.85958, 0.79912,\n",
       "       0.76419, 0.82599, 0.87436, 0.90527, 0.93751, 0.9617 , 0.96842,\n",
       "       0.95229, 0.92542, 0.87302, 0.81659, 0.79912, 0.783  , 0.75612])"
      ]
     },
     "execution_count": 109,
     "metadata": {},
     "output_type": "execute_result"
    }
   ],
   "source": [
    "a"
   ]
  },
  {
   "cell_type": "code",
   "execution_count": null,
   "metadata": {},
   "outputs": [],
   "source": []
  }
 ],
 "metadata": {
  "kernelspec": {
   "display_name": "Python 3",
   "language": "python",
   "name": "python3"
  },
  "language_info": {
   "codemirror_mode": {
    "name": "ipython",
    "version": 3
   },
   "file_extension": ".py",
   "mimetype": "text/x-python",
   "name": "python",
   "nbconvert_exporter": "python",
   "pygments_lexer": "ipython3",
   "version": "3.8.3"
  }
 },
 "nbformat": 4,
 "nbformat_minor": 4
}
